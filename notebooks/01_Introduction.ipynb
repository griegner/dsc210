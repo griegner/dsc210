{
 "cells": [
  {
   "cell_type": "markdown",
   "id": "fef3bd35",
   "metadata": {},
   "source": [
    "# Introduction"
   ]
  },
  {
   "cell_type": "markdown",
   "id": "5bbc1b5f",
   "metadata": {},
   "source": [
    "### Newton's Method Implementation Derivation\n",
    "\n",
    "Method somewhat adapted from https://thatdatatho.com/newtons-method-bfgs-linear-regression/\\\n",
    "\n",
    "Our contributions:\n",
    "1. Detailed derivation of implementation\n",
    "2. Our implementation is written in python\n",
    "\n",
    "Each step of the Newton's method is:\n",
    "$$\\beta^{k+1} = \\beta^{k} - H(\\beta^{k})^{-1} \\triangledown f(\\beta^{k})$$\n",
    "\n",
    "Start with linear regression general form:\n",
    "$$y = X \\beta + \\epsilon$$\n",
    "\n",
    "For least squares, the error $\\epsilon^{'}\\epsilon$ must be minimized to create a best fit line. This is:\n",
    "$$f(\\beta^{k}) = \\epsilon^{'}\\epsilon = (y- X\\beta)^{'} (y- X\\beta)$$\n",
    "\n",
    "Distributing the terms, it becomes:\n",
    "$$f(\\beta^{k}) = \\epsilon^{'}\\epsilon = y^{'}y - y^{'}X\\beta -\\beta^{'}X^{'}y + \\beta^{'}X^{'}X \\beta$$\n",
    "\n",
    "$f(\\beta^{k}) = \\epsilon^{'}\\epsilon$ can be further simplified:\n",
    "\n",
    "$$ \\beta^{'}X^{'}y = (\\beta^{'}X^{'}y)^{'} = y^{'}X \\beta$$\n",
    "This is because:\n",
    "$$LHS: 1 \\times m * m \\times n * n \\times 1 = 1 \\times m * m \\times 1 = 1 \\times 1$$\n",
    "\n",
    "$$RHS: 1 \\times n * n \\times m * m \\times 1 = 1 \\times n * n \\times 1 = 1 \\times 1$$"
   ]
  },
  {
   "cell_type": "markdown",
   "id": "3dbe8a6f",
   "metadata": {},
   "source": [
    "Across 100 different simulations, it can be seen that the difference between the LHS and the RHS is extremely small. Therefore:\n",
    "$$LHS \\approx RHS$$\n",
    "$$\\beta^{'}X^{'}y \\approx y^{'}X \\beta$$\n",
    "\n",
    "Using this approximation, the least-squares equation becomes:"
   ]
  },
  {
   "cell_type": "markdown",
   "id": "a5d9f667",
   "metadata": {},
   "source": [
    "$$f(\\beta^{k}) = \\epsilon^{'}\\epsilon = y^{'}y -2\\beta^{'}X^{'}y + \\beta^{'}X^{'}X \\beta$$\n",
    "\n",
    "To compute the gradient, the derivative of this function must be taken wrt $\\beta$. The derivative of each term wrt $\\beta$ is taken.\n",
    "\n",
    "$$\\frac{\\partial y^{'}y}{\\partial \\beta} = 0$$\n",
    "\n",
    "$$\\frac{\\partial (-2\\beta^{'}X^{'}y)}{\\partial \\beta} = -2X^{'}y$$\n",
    "\n",
    "$$\\frac{\\partial \\beta^{'}X^{'}X \\beta}{\\partial \\beta} = 2 X^{'}X \\beta$$\n",
    "\n",
    "\n",
    "This comes from the identity (A.8.2, Linear Regression Analysis Second Edition, Seber):\n",
    "$$\\frac{\\partial B^{'}A B}{\\partial B} = 2A B$$\n",
    "Where:\n",
    "\n",
    "$$A = X^{'}X$$\n",
    "$A$ must be symmetric. $X^{'}X$ is symmetric because $(X^{'}X)^{'} = (X^{'}X)$\n",
    "$$B = \\beta$$\n",
    "\n",
    "Proof:\n",
    "$$\\frac{\\partial B^{'}A B}{\\partial B_{i}} = = \\frac{\\partial}{\\partial B_{i}} (\\Sigma_{i}\\Sigma_{j} a_{ij} B_{i} B_{j})$$\n",
    "$$2a_{ij}B_{i} + 2 \\Sigma_{j \\neq 1} a_{ij} B_{j}$$\n",
    "$$2\\Sigma_{j} a_{ij}B_{j}$$\n",
    "$$2(A B)_{i}$$\n",
    "\n",
    "Plugging the simplification in and taking the derivative wrt $\\beta$:\n",
    "\n",
    "$$\\triangledown f(\\beta^{k}) = \\frac{\\partial \\epsilon^{'}\\epsilon}{\\partial \\beta} = -2X^{'}y + 2X^{'}X \\beta = 0$$\n",
    "\n",
    "$$\\triangledown f(\\beta^{k}) = \\frac{\\partial \\epsilon^{'}\\epsilon}{\\partial \\beta} = -X^{'}y + X^{'}X \\beta = 0$$\n",
    "\n",
    "$$\\triangledown f(\\beta^{k}) = \\frac{\\partial \\epsilon^{'}\\epsilon}{\\partial \\beta} = -X^{'} (y - X \\beta) = 0$$\n",
    "\n",
    "The Hessian is easily found by taking the derivative of the gradient wrt to beta:\n",
    "$$H(\\beta^{k}) = \\frac{\\partial^{2} \\epsilon^{'}\\epsilon}{\\partial \\beta^{2}} = X^{'}X = 0$$"
   ]
  },
  {
   "cell_type": "code",
   "execution_count": null,
   "id": "add60d03",
   "metadata": {},
   "outputs": [],
   "source": []
  }
 ],
 "metadata": {
  "kernelspec": {
   "display_name": "Python 3 (ipykernel)",
   "language": "python",
   "name": "python3"
  },
  "language_info": {
   "codemirror_mode": {
    "name": "ipython",
    "version": 3
   },
   "file_extension": ".py",
   "mimetype": "text/x-python",
   "name": "python",
   "nbconvert_exporter": "python",
   "pygments_lexer": "ipython3",
   "version": "3.10.8"
  }
 },
 "nbformat": 4,
 "nbformat_minor": 5
}
