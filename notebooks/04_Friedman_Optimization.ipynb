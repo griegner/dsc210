{
 "cells": [
  {
   "cell_type": "code",
   "execution_count": null,
   "metadata": {},
   "outputs": [],
   "source": [
    "import warnings\n",
    "warnings.filterwarnings(\"ignore\")\n",
    "import time\n",
    "from tqdm.notebook import tqdm\n",
    "import matplotlib.pyplot as plt\n",
    "import pandas as pd\n",
    "import numpy as np\n",
    "from numpy.linalg import norm\n",
    "import sklearn.datasets as skds\n",
    "import torch\n",
    "from sklearn.model_selection import train_test_split\n",
    "from sklearn.preprocessing import robust_scale\n",
    "from sklearn import datasets\n",
    "import torch\n",
    "from optimization import Friedman,LinearRegression, train_model"
   ]
  },
  {
   "cell_type": "code",
   "execution_count": null,
   "metadata": {},
   "outputs": [],
   "source": [
    "def save_data(n_sim,n_epochs,noise):\n",
    "    file = '../results/friedman_sim_data_'+'obs_'+str(n_sim)+'sims_'+str(n_epochs)+'_epochs_noise'+str(noise)+'.npz'\n",
    "    np.savez(file,beta_mse = beta_mse,elapsed_time = elapsed_time,loss_history = loss_history)\n",
    "    \n",
    "def load_data(fname):\n",
    "    data = np.load(fname,allow_pickle = True)\n",
    "    return data['beta_mse'],data['elapsed_time'],data['loss_history']"
   ]
  },
  {
   "cell_type": "markdown",
   "metadata": {},
   "source": [
    "## Noise = 0"
   ]
  },
  {
   "cell_type": "code",
   "execution_count": null,
   "metadata": {},
   "outputs": [],
   "source": [
    "#https://scikit-learn.org/stable/modules/generated/sklearn.datasets.make_friedman1.html\n",
    "b = np.array([10,20,0.5,10,5]) # DO NOT CHANGE, THESE ARE TRUE BETAS \n",
    "n_epochs = 250\n",
    "n_sim = 100\n",
    "noise = 0"
   ]
  },
  {
   "cell_type": "code",
   "execution_count": null,
   "metadata": {
    "scrolled": true
   },
   "outputs": [],
   "source": [
    "# Skip to next cell if re-running\n",
    "# Track loss, beta error, and elapsed time\n",
    "loss_history = {\n",
    "    'newton': np.zeros((n_sim, n_epochs)),\n",
    "    'sgd': np.zeros((n_sim, n_epochs)),\n",
    "    'lbfgs': np.zeros((n_sim, n_epochs))\n",
    "}\n",
    "\n",
    "beta_mse = {\n",
    "    'newton': np.zeros(n_sim),\n",
    "    'sgd': np.zeros(n_sim),\n",
    "    'lbfgs': np.zeros(n_sim)\n",
    "}\n",
    "\n",
    "elapsed_time = {\n",
    "    'newton': np.zeros(n_sim),\n",
    "    'sgd': np.zeros(n_sim),\n",
    "    'lbfgs': np.zeros(n_sim)\n",
    "}\n",
    "\n",
    "\n",
    "\n",
    "for i in tqdm(range(n_sim)): # 100 simulations take 6 minutes\n",
    "    X,y = datasets.make_friedman1(n_samples=100, n_features=5, noise=noise, random_state=i)\n",
    "    X_new = torch.tensor(X,requires_grad=True)\n",
    "    y_new = torch.tensor(y,requires_grad=True)\n",
    "    \n",
    "    b_hat_newton, loss_hist_newton, elapsed_newton = train_model(X_new, y_new,model = Friedman, method='newton', n_epochs=n_epochs)\n",
    "    b_hat_sgd, loss_hist_sgd, elapsed_sgd = train_model(X_new, y_new,model = Friedman, method='sgd', n_epochs=n_epochs)\n",
    "    b_hat_lbfgs, loss_hist_lbfgs, elapsed_lbfgs = train_model(X_new, y_new,model = Friedman, method='lbfgs', n_epochs=n_epochs)\n",
    "    \n",
    "    beta_mse['newton'][i] = float(((b - np.array(b_hat_newton))**2).mean())\n",
    "    elapsed_time['newton'][i] = elapsed_newton\n",
    "    loss_history['newton'][i] = loss_hist_newton\n",
    "\n",
    "    beta_mse['sgd'][i] = float(((b - np.array(b_hat_sgd))**2).mean())\n",
    "    elapsed_time['sgd'][i] = elapsed_sgd\n",
    "    loss_history['sgd'][i] = loss_hist_sgd\n",
    "    \n",
    "    beta_mse['lbfgs'][i] = float(((b - np.array(b_hat_lbfgs))**2).mean())\n",
    "    elapsed_time['lbfgs'][i] = elapsed_lbfgs\n",
    "    loss_history['lbfgs'][i] = loss_hist_lbfgs\n",
    "save_data(n_sim,n_epochs,noise)"
   ]
  },
  {
   "cell_type": "code",
   "execution_count": null,
   "metadata": {},
   "outputs": [],
   "source": [
    "# Load from save .npz files\n",
    "fname_0noise = '../results/friedman_sim_data_obs_100sims_250_epochs_noise0.npz'\n",
    "\n",
    "beta_mse_0noise, elapsed_time_0noise, loss_history_0noise = load_data(fname_0noise)\n",
    "beta_mse_0noise = beta_mse_0noise.flatten()[0]\n",
    "elapsed_time_0noise = elapsed_time_0noise.flatten()[0]\n",
    "loss_history_0noise = loss_history_0noise.flatten()[0]"
   ]
  },
  {
   "cell_type": "code",
   "execution_count": null,
   "metadata": {},
   "outputs": [],
   "source": [
    "fig, axes = plt.subplots(figsize=(12, 4), ncols=2)\n",
    "def get_finite_vals(array):\n",
    "    ii = np.isfinite(array)\n",
    "    return(array[ii])\n",
    "    \n",
    "axes[0].violinplot(get_finite_vals(beta_mse_0noise['newton']), positions = [1])\n",
    "axes[0].violinplot(get_finite_vals(beta_mse_0noise['sgd']), positions=[1.5])\n",
    "axes[0].violinplot(get_finite_vals(beta_mse_0noise['lbfgs']), positions=[2])\n",
    "    \n",
    "axes[1].violinplot(elapsed_time_0noise['newton'])\n",
    "axes[1].violinplot(elapsed_time_0noise['sgd'], positions=[1.5])\n",
    "axes[1].violinplot(get_finite_vals(elapsed_time_0noise['lbfgs']), positions=[2])\n",
    "    \n",
    "axes[0].set_xticks([1, 1.5,2], ['Newton','SGD', 'LBFGS'])\n",
    "axes[1].set_xticks([1, 1.5,2], ['Newton','SGD', 'LBFGS'])\n",
    "    \n",
    "axes[0].set_title(f'MSE: '+str(noise) +' Noise')\n",
    "axes[1].set_title(f'SGD vs LBFGS Time Elapsed : '+str(noise) +' Noise')\n",
    "    \n",
    "axes[0].set_ylabel('MSE')\n",
    "axes[1].set_ylabel('Time (s)')"
   ]
  },
  {
   "cell_type": "code",
   "execution_count": null,
   "metadata": {},
   "outputs": [],
   "source": [
    "plt.figure(0)\n",
    "plt.title(f'Loss with ' + str(noise) +  ' Noise')\n",
    "plt.plot(np.nanmean(loss_history_0noise['newton'],axis = 0), label='Newton')\n",
    "plt.plot(np.nanmean(loss_history_0noise['sgd'],axis = 0), label='SGD')\n",
    "plt.plot(np.nanmean(loss_history_0noise['lbfgs'],axis = 0 ), label='LBFGS')\n",
    "plt.ylabel('Loss (MSE)')\n",
    "plt.xlabel('Epoch')\n",
    "plt.legend(loc=\"upper right\")"
   ]
  },
  {
   "cell_type": "code",
   "execution_count": null,
   "metadata": {
    "scrolled": false
   },
   "outputs": [],
   "source": [
    "newton_mse_df = pd.DataFrame(beta_mse_0noise['newton'])\n",
    "sgd_mse_df = pd.DataFrame(beta_mse_0noise['sgd'])\n",
    "lbfgs_mse_df = pd.DataFrame(beta_mse_0noise['lbfgs'])\n",
    "\n",
    "fig, ax = plt.subplots(1, 3, figsize=(20, 18))\n",
    "\n",
    "newton_mse_df.hist(ax = ax[0],bins = 20)\n",
    "ax[0].set_title('Distribution of Newton MSE (Friedman, 0 noise) across 100 Simulations')\n",
    "ax[0].set_xlabel('MSE')\n",
    "ax[0].set_ylabel('Count')\n",
    "\n",
    "sgd_mse_df.hist(ax = ax[1],bins = 20)\n",
    "ax[1].set_title('Distribution of SGD MSE (Friedman, 0 noise) across 100 Simulations')\n",
    "ax[1].set_xlabel('MSE')\n",
    "ax[1].set_ylabel('Count')\n",
    "\n",
    "lbfgs_mse_df.hist(ax = ax[2], bins = 20)\n",
    "ax[2].set_title('Distribution of LBFGS MSE (Friedman, 0 noise) across 100 Simulations')\n",
    "ax[2].set_xlabel('MSE')\n",
    "ax[2].set_ylabel('Count')\n",
    "\n",
    "\n",
    "five_num_summary_mse = pd.concat([newton_mse_df.describe(),sgd_mse_df.describe(),lbfgs_mse_df.describe()],axis = 1)\n",
    "five_num_summary_mse.columns = ['Newton','SGD','LBFGS']\n",
    "fname = '../results/friedman_sim_data_'+str(n_sim)+'sims_'+str(n_epochs)+'epochs_'+str(noise)+'noise_mse5summ.xlsx'\n",
    "five_num_summary_mse.to_csv(fname)"
   ]
  },
  {
   "cell_type": "markdown",
   "metadata": {},
   "source": [
    "## Noise = 50"
   ]
  },
  {
   "cell_type": "code",
   "execution_count": null,
   "metadata": {},
   "outputs": [],
   "source": [
    "b = np.array([10,20,0.5,10,5]) # DO NOT CHANGE, THESE ARE TRUE BETAS \n",
    "#https://scikit-learn.org/stable/modules/generated/sklearn.datasets.make_friedman1.html\n",
    "n_epochs = 250\n",
    "n_sim = 100\n",
    "noise = 50"
   ]
  },
  {
   "cell_type": "code",
   "execution_count": null,
   "metadata": {},
   "outputs": [],
   "source": [
    "# Skip to next cell if re-running\n",
    "# Track loss, beta error, and elapsed time\n",
    "loss_history = {\n",
    "    'newton': np.zeros((n_sim, n_epochs)),\n",
    "    'sgd': np.zeros((n_sim, n_epochs)),\n",
    "    'lbfgs': np.zeros((n_sim, n_epochs))\n",
    "}\n",
    "\n",
    "beta_mse = {\n",
    "    'newton': np.zeros(n_sim),\n",
    "    'sgd': np.zeros(n_sim),\n",
    "    'lbfgs': np.zeros(n_sim)\n",
    "}\n",
    "\n",
    "elapsed_time = {\n",
    "    'newton': np.zeros(n_sim),\n",
    "    'sgd': np.zeros(n_sim),\n",
    "    'lbfgs': np.zeros(n_sim)\n",
    "}\n",
    "\n",
    "\n",
    "\n",
    "for i in tqdm(range(n_sim)): # 100 simulations take 6 minutes\n",
    "    X,y = datasets.make_friedman1(n_samples=100, n_features=5, noise=noise, random_state=i)\n",
    "    X_new = torch.tensor(X,requires_grad=True)\n",
    "    y_new = torch.tensor(y,requires_grad=True)\n",
    "    \n",
    "    b_hat_newton, loss_hist_newton, elapsed_newton = train_model(X_new, y_new,model = Friedman, method='newton', n_epochs=n_epochs)\n",
    "    b_hat_sgd, loss_hist_sgd, elapsed_sgd = train_model(X_new, y_new,model = Friedman, method='sgd', n_epochs=n_epochs)\n",
    "    b_hat_lbfgs, loss_hist_lbfgs, elapsed_lbfgs = train_model(X_new, y_new,model = Friedman, method='lbfgs', n_epochs=n_epochs)\n",
    "    \n",
    "    beta_mse['newton'][i] = float(((b - np.array(b_hat_newton))**2).mean())\n",
    "    elapsed_time['newton'][i] = elapsed_newton\n",
    "    loss_history['newton'][i] = loss_hist_newton\n",
    "\n",
    "    beta_mse['sgd'][i] = float(((b - np.array(b_hat_sgd))**2).mean())\n",
    "    elapsed_time['sgd'][i] = elapsed_sgd\n",
    "    loss_history['sgd'][i] = loss_hist_sgd\n",
    "    \n",
    "    beta_mse['lbfgs'][i] = float(((b - np.array(b_hat_lbfgs))**2).mean())\n",
    "    elapsed_time['lbfgs'][i] = elapsed_lbfgs\n",
    "    loss_history['lbfgs'][i] = loss_hist_lbfgs\n",
    "    \n",
    "save_data(n_sim,n_epochs,noise)"
   ]
  },
  {
   "cell_type": "code",
   "execution_count": null,
   "metadata": {},
   "outputs": [],
   "source": [
    "# Load from save .npz files\n",
    "fname_50noise = '../results/friedman_sim_data_obs_100sims_250_epochs_noise50.npz'\n",
    "\n",
    "beta_mse_50noise, elapsed_time_50noise, loss_history_50noise = load_data(fname_50noise)\n",
    "beta_mse_50noise = beta_mse_50noise.flatten()[0]\n",
    "elapsed_time_50noise = elapsed_time_50noise.flatten()[0]\n",
    "loss_history_50noise = loss_history_50noise.flatten()[0]"
   ]
  },
  {
   "cell_type": "code",
   "execution_count": null,
   "metadata": {},
   "outputs": [],
   "source": [
    "fig, axes = plt.subplots(figsize=(12, 4), ncols=2)\n",
    "def get_finite_vals(array):\n",
    "    ii = np.isfinite(array)\n",
    "    return(array[ii])\n",
    "    \n",
    "axes[0].violinplot(get_finite_vals(beta_mse_50noise['newton']), positions = [1])\n",
    "axes[0].violinplot(get_finite_vals(beta_mse_50noise['sgd']), positions=[1.5])\n",
    "axes[0].violinplot(get_finite_vals(beta_mse_50noise['lbfgs']), positions=[2])\n",
    "    \n",
    "axes[1].violinplot(elapsed_time_50noise['newton'])\n",
    "axes[1].violinplot(elapsed_time_50noise['sgd'], positions=[1.5])\n",
    "axes[1].violinplot(get_finite_vals(elapsed_time_50noise['lbfgs']), positions=[2])\n",
    "    \n",
    "axes[0].set_xticks([1, 1.5,2], ['Newton','SGD', 'LBFGS'])\n",
    "axes[1].set_xticks([1, 1.5,2], ['Newton','SGD', 'LBFGS'])\n",
    "    \n",
    "axes[0].set_title(f'MSE: '+str(noise) +' Noise')\n",
    "axes[1].set_title(f'SGD vs LBFGS Time Elapsed : '+str(noise) +' Noise')\n",
    "    \n",
    "axes[0].set_ylabel('MSE')\n",
    "axes[1].set_ylabel('Time (s)')"
   ]
  },
  {
   "cell_type": "code",
   "execution_count": null,
   "metadata": {},
   "outputs": [],
   "source": [
    "plt.figure(0)\n",
    "plt.title(f'Loss with ' + str(noise) +  ' Noise')\n",
    "plt.plot(np.nanmean(loss_history_50noise['newton'],axis = 0), label='Newton')\n",
    "plt.plot(np.nanmean(loss_history_50noise['sgd'],axis = 0), label='SGD')\n",
    "plt.plot(np.nanmean(loss_history_50noise['lbfgs'],axis = 0 ), label='LBFGS')\n",
    "plt.ylabel('Loss (MSE)')\n",
    "plt.xlabel('Epoch')\n",
    "plt.legend(loc=\"upper right\")"
   ]
  },
  {
   "cell_type": "code",
   "execution_count": null,
   "metadata": {
    "scrolled": false
   },
   "outputs": [],
   "source": [
    "# Skip to next cell if re-running\n",
    "newton_mse_df = pd.DataFrame(beta_mse_50noise['newton'])\n",
    "sgd_mse_df = pd.DataFrame(beta_mse_50noise['sgd'])\n",
    "lbfgs_mse_df = pd.DataFrame(beta_mse_50noise['lbfgs'])\n",
    "\n",
    "fig, ax = plt.subplots(1, 3, figsize=(20, 18))\n",
    "\n",
    "newton_mse_df.hist(ax = ax[0],bins = 20)\n",
    "ax[0].set_title('Distribution of Newton MSE (Friedman, 50 noise) across 100 Simulations')\n",
    "ax[0].set_xlabel('MSE')\n",
    "ax[0].set_ylabel('Count')\n",
    "\n",
    "sgd_mse_df.hist(ax = ax[1],bins = 20)\n",
    "ax[1].set_title('Distribution of SGD MSE (Friedman, 50 noise) across 100 Simulations')\n",
    "ax[1].set_xlabel('MSE')\n",
    "ax[1].set_ylabel('Count')\n",
    "\n",
    "lbfgs_mse_df.hist(ax = ax[2], bins = 20)\n",
    "ax[2].set_title('Distribution of LBFGS MSE (Friedman, 50 noise) across 100 Simulations')\n",
    "ax[2].set_xlabel('MSE')\n",
    "ax[2].set_ylabel('Count')\n",
    "\n",
    "\n",
    "five_num_summary_mse = pd.concat([newton_mse_df.describe(),sgd_mse_df.describe(),lbfgs_mse_df.describe()],axis = 1)\n",
    "five_num_summary_mse.columns = ['Newton','SGD','LBFGS']\n",
    "fname = '../results/friedman_sim_data_'+str(n_sim)+'sims_'+str(n_epochs)+'epochs_'+str(noise)+'noise_mse5summ.xlsx'\n",
    "five_num_summary_mse.to_csv(fname)"
   ]
  },
  {
   "cell_type": "markdown",
   "metadata": {},
   "source": [
    "## 100 noise"
   ]
  },
  {
   "cell_type": "code",
   "execution_count": null,
   "metadata": {},
   "outputs": [],
   "source": [
    "b = np.array([10,20,0.5,10,5]) # DO NOT CHANGE, THESE ARE TRUE BETAS \n",
    "#https://scikit-learn.org/stable/modules/generated/sklearn.datasets.make_friedman1.html\n",
    "n_epochs = 250\n",
    "n_sim = 100\n",
    "noise = 100"
   ]
  },
  {
   "cell_type": "code",
   "execution_count": null,
   "metadata": {},
   "outputs": [],
   "source": [
    "# Skip to next cell if re-running\n",
    "# Track loss, beta error, and elapsed time\n",
    "loss_history = {\n",
    "    'newton': np.zeros((n_sim, n_epochs)),\n",
    "    'sgd': np.zeros((n_sim, n_epochs)),\n",
    "    'lbfgs': np.zeros((n_sim, n_epochs))\n",
    "}\n",
    "\n",
    "beta_mse = {\n",
    "    'newton': np.zeros(n_sim),\n",
    "    'sgd': np.zeros(n_sim),\n",
    "    'lbfgs': np.zeros(n_sim)\n",
    "}\n",
    "\n",
    "elapsed_time = {\n",
    "    'newton': np.zeros(n_sim),\n",
    "    'sgd': np.zeros(n_sim),\n",
    "    'lbfgs': np.zeros(n_sim)\n",
    "}\n",
    "\n",
    "\n",
    "\n",
    "for i in tqdm(range(n_sim)): # 100 simulations take 6 minutes\n",
    "    X,y = datasets.make_friedman1(n_samples=100, n_features=5, noise=noise, random_state=i)\n",
    "    X_new = torch.tensor(X,requires_grad=True)\n",
    "    y_new = torch.tensor(y,requires_grad=True)\n",
    "    \n",
    "    b_hat_newton, loss_hist_newton, elapsed_newton = train_model(X_new, y_new,model = Friedman, method='newton', n_epochs=n_epochs)\n",
    "    b_hat_sgd, loss_hist_sgd, elapsed_sgd = train_model(X_new, y_new,model = Friedman, method='sgd', n_epochs=n_epochs)\n",
    "    b_hat_lbfgs, loss_hist_lbfgs, elapsed_lbfgs = train_model(X_new, y_new,model = Friedman, method='lbfgs', n_epochs=n_epochs)\n",
    "    \n",
    "    beta_mse['newton'][i] = float(((b - np.array(b_hat_newton))**2).mean())\n",
    "    elapsed_time['newton'][i] = elapsed_newton\n",
    "    loss_history['newton'][i] = loss_hist_newton\n",
    "\n",
    "    beta_mse['sgd'][i] = float(((b - np.array(b_hat_sgd))**2).mean())\n",
    "    elapsed_time['sgd'][i] = elapsed_sgd\n",
    "    loss_history['sgd'][i] = loss_hist_sgd\n",
    "    \n",
    "    beta_mse['lbfgs'][i] = float(((b - np.array(b_hat_lbfgs))**2).mean())\n",
    "    elapsed_time['lbfgs'][i] = elapsed_lbfgs\n",
    "    loss_history['lbfgs'][i] = loss_hist_lbfgs\n",
    "save_data(n_sim,n_epochs,noise)"
   ]
  },
  {
   "cell_type": "code",
   "execution_count": null,
   "metadata": {},
   "outputs": [],
   "source": [
    "# Load from save .npz files\n",
    "fname_100noise = '../results/friedman_sim_data_obs_100sims_250_epochs_noise100.npz'\n",
    "\n",
    "beta_mse_100noise, elapsed_time_100noise, loss_history_100noise = load_data(fname_100noise)\n",
    "beta_mse_100noise = beta_mse_100noise.flatten()[0]\n",
    "elapsed_time_100noise = elapsed_time_100noise.flatten()[0]\n",
    "loss_history_100noise = loss_history_100noise.flatten()[0]"
   ]
  },
  {
   "cell_type": "code",
   "execution_count": null,
   "metadata": {},
   "outputs": [],
   "source": [
    "fig, axes = plt.subplots(figsize=(12, 4), ncols=2)\n",
    "def get_finite_vals(array):\n",
    "    ii = np.isfinite(array)\n",
    "    return(array[ii])\n",
    "    \n",
    "axes[0].violinplot(get_finite_vals(beta_mse_100noise['newton']), positions = [1])\n",
    "axes[0].violinplot(get_finite_vals(beta_mse_100noise['sgd']), positions=[1.5])\n",
    "axes[0].violinplot(get_finite_vals(beta_mse_100noise['lbfgs']), positions=[2])\n",
    "    \n",
    "axes[1].violinplot(elapsed_time_100noise['newton'])\n",
    "axes[1].violinplot(elapsed_time_100noise['sgd'], positions=[1.5])\n",
    "axes[1].violinplot(elapsed_time_100noise['lbfgs'], positions=[2])\n",
    "    \n",
    "axes[0].set_xticks([1, 1.5,2], ['Newton','SGD', 'LBFGS'])\n",
    "axes[1].set_xticks([1, 1.5,2], ['Newton','SGD', 'LBFGS'])\n",
    "    \n",
    "axes[0].set_title(f'MSE: '+str(noise) +' Noise')\n",
    "axes[1].set_title(f'SGD vs LBFGS Time Elapsed : '+str(noise) +' Noise')\n",
    "    \n",
    "axes[0].set_ylabel('MSE')\n",
    "axes[1].set_ylabel('Time (s)')"
   ]
  },
  {
   "cell_type": "code",
   "execution_count": null,
   "metadata": {},
   "outputs": [],
   "source": [
    "plt.figure(0)\n",
    "plt.title(f'Loss with ' + str(noise) +  ' Noise')\n",
    "plt.plot(np.nanmean(loss_history_100noise['newton'],axis = 0), label='Newton')\n",
    "plt.plot(np.nanmean(loss_history_100noise['sgd'],axis = 0), label='SGD')\n",
    "plt.plot(np.nanmean(loss_history_100noise['lbfgs'],axis = 0), label='LBFGS')\n",
    "plt.ylabel('Loss (MSE)')\n",
    "plt.xlabel('Epoch')\n",
    "plt.legend(loc=\"upper right\")"
   ]
  },
  {
   "cell_type": "code",
   "execution_count": null,
   "metadata": {},
   "outputs": [],
   "source": [
    "newton_mse_df = pd.DataFrame(beta_mse_100noise['newton'])\n",
    "sgd_mse_df = pd.DataFrame(beta_mse_100noise['sgd'])\n",
    "lbfgs_mse_df = pd.DataFrame(beta_mse_100noise['lbfgs'])\n",
    "\n",
    "#fig, ax = plt.subplots(1, 3, figsize=(20, 18))\n",
    "\n",
    "#newton_mse_df.hist(ax = ax[0],bins = 20)\n",
    "#ax[0].set_title('Distribution of Newton MSE (Friedman, 50 noise) across 100 Simulations')\n",
    "#ax[0].set_xlabel('MSE')\n",
    "#ax[0].set_ylabel('Count')\n",
    "\n",
    "#sgd_mse_df.hist(ax = ax[1],bins = 20)\n",
    "#ax[1].set_title('Distribution of SGD MSE (Friedman, 50 noise) across 100 Simulations')\n",
    "#ax[1].set_xlabel('MSE')\n",
    "#ax[1].set_ylabel('Count')\n",
    "\n",
    "#bfgs_mse_df.hist(ax = ax[2], bins = 20)\n",
    "#ax[2].set_title('Distribution of LBFGS MSE (Friedman, 50 noise) across 100 Simulations')\n",
    "#ax[2].set_xlabel('MSE')\n",
    "#ax[2].set_ylabel('Count')\n",
    "\n",
    "five_num_summary_mse = pd.concat([newton_mse_df.describe(),sgd_mse_df.describe(),lbfgs_mse_df.describe()],axis = 1)\n",
    "five_num_summary_mse.columns = ['Newton','SGD','LBFGS']\n",
    "fname = '../results/friedman_sim_data_'+str(n_sim)+'sims_'+str(n_epochs)+'epochs_'+str(noise)+'noise_mse5summ.xlsx'\n",
    "five_num_summary_mse.to_csv(fname)"
   ]
  },
  {
   "cell_type": "markdown",
   "metadata": {},
   "source": [
    "The suprising thing here is that with hand calculations, you will get the wrong result. The LGBFS model is able to perform even with the noise and get the true $\\beta$. The SGD algorithm is not able to discern it."
   ]
  },
  {
   "cell_type": "code",
   "execution_count": null,
   "metadata": {},
   "outputs": [],
   "source": [
    "X,y = datasets.make_friedman1(n_samples=100, n_features=5, noise=100, random_state=1)\n",
    "X_new = torch.tensor(X,requires_grad=True)\n",
    "y_new = torch.tensor(y,requires_grad=True)"
   ]
  },
  {
   "cell_type": "markdown",
   "metadata": {},
   "source": [
    "## Sanity Check"
   ]
  },
  {
   "cell_type": "code",
   "execution_count": null,
   "metadata": {},
   "outputs": [],
   "source": [
    "X,y = datasets.make_friedman1(n_samples=100, n_features=5, noise=0, random_state=1)\n",
    "X_new = torch.tensor(X,requires_grad=True)\n",
    "y_new = torch.tensor(y,requires_grad=True)"
   ]
  },
  {
   "cell_type": "markdown",
   "metadata": {},
   "source": [
    "With 0 noise, it matches."
   ]
  },
  {
   "cell_type": "code",
   "execution_count": null,
   "metadata": {},
   "outputs": [],
   "source": [
    "y_hat = b[0]*torch.sin(torch.pi*X_new[:,0]*X_new[:,1]) + b[1]*(X_new[:,2]-b[2])**2 + (b[3]*(X_new[:,3])) + (b[4]* X_new[:,4])\n",
    "assert(torch.equal(y_hat,y_new))"
   ]
  }
 ],
 "metadata": {
  "kernelspec": {
   "display_name": "base",
   "language": "python",
   "name": "base"
  },
  "language_info": {
   "codemirror_mode": {
    "name": "ipython",
    "version": 3
   },
   "file_extension": ".py",
   "mimetype": "text/x-python",
   "name": "python",
   "nbconvert_exporter": "python",
   "pygments_lexer": "ipython3",
   "version": "3.9.13"
  }
 },
 "nbformat": 4,
 "nbformat_minor": 5
}
