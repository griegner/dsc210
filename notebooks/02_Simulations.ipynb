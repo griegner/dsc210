{
 "cells": [
  {
   "cell_type": "code",
   "execution_count": 1,
   "id": "50435051",
   "metadata": {},
   "outputs": [],
   "source": [
    "import os\n",
    "os.environ[\"KMP_DUPLICATE_LIB_OK\"]=\"TRUE\"\n",
    "from functools import partial\n",
    "from multiprocessing import Pool, cpu_count\n",
    "import time\n",
    "from tqdm.notebook import tqdm\n",
    "import numpy as np\n",
    "import matplotlib.pyplot as plt\n",
    "import torch\n",
    "from optimization.optimization import LinearRegression, train_model, normal_eq_lr\n",
    "from optimization.datasets import sim_linear_model"
   ]
  },
  {
   "cell_type": "markdown",
   "id": "abfa2fb0",
   "metadata": {},
   "source": [
    "## Simulations"
   ]
  },
  {
   "cell_type": "markdown",
   "id": "37839562",
   "metadata": {},
   "source": [
    "The goal of these simulations is to create cases where we have n samples (could be low or high) and m features (1-1000). In the context of an optimization problem, compare the performance between SGD, Newton's method, and Quasi-Newton for each case."
   ]
  },
  {
   "cell_type": "code",
   "execution_count": 2,
   "id": "fb91ecb8",
   "metadata": {},
   "outputs": [],
   "source": [
    "# Functions for saving/loading results\n",
    "def save_data(n, n_sim, n_epochs):\n",
    "    file = 'sim_data_'+str(n)+'-obs_'+str(n_sim)+'-sims_'+str(n_epochs)+'-epochs.npz'\n",
    "    np.savez(file, beta_mse=beta_mse, elapsed_time=elapsed_time,loss_history = loss_history)\n",
    "    \n",
    "def load_data(fname):\n",
    "    data = np.load(fname, allow_pickle=True)\n",
    "    return data['beta_mse'], data['elapsed_time'], data['loss_history']\n",
    "\n",
    "# Functions for executing simulations in parallel\n",
    "def parallel_func(seed, n=None, m=None, n_epochs=None, tol=None, tol_abs=None):\n",
    "    \n",
    "    # Generate new data\n",
    "    X, b, y = sim_linear_model(n, m, seed=seed)\n",
    "\n",
    "    # Normal equation\n",
    "    start = time.time()\n",
    "    b_normal = normal_eq_lr(X, y)[:, 0]\n",
    "    end = time.time()\n",
    "\n",
    "    beta_mse_normal = float(((b_normal-b)**2).mean())\n",
    "    elapsed_time_normal = end-start\n",
    "\n",
    "    # SGD\n",
    "    b_hat_sgd, loss_hist_sgd, elapsed_sgd =  train_model(\n",
    "        X, y, method='sgd', n_epochs=n_epochs, seed=seed, tol=tol, tol_abs=tol_abs)\n",
    "\n",
    "    beta_mse_sgd = float(((b-b_hat_sgd)**2).mean())\n",
    "\n",
    "    # Newton's method\n",
    "    b_hat_newton, loss_hist_newton, elapsed_newton = train_model(\n",
    "        X, y, method='newton', n_epochs=n_epochs, seed=seed, tol=tol, tol_abs=tol_abs)\n",
    "\n",
    "    beta_mse_newton = float(((b - b_hat_newton)**2).mean())\n",
    "\n",
    "    # LBFGS\n",
    "    b_hat_lbfgs, loss_hist_lbfgs, elapsed_lbfgs = train_model(\n",
    "        X, y, method='lbfgs', n_epochs=n_epochs, seed=seed, tol=tol, tol_abs=tol_abs)\n",
    "\n",
    "    beta_mse_lbfgs = float(((b - b_hat_lbfgs)**2).mean())\n",
    "\n",
    "    results = [\n",
    "        beta_mse_normal, elapsed_time_normal,\n",
    "        beta_mse_sgd, loss_hist_sgd, elapsed_sgd,\n",
    "        beta_mse_newton, loss_hist_newton, elapsed_newton,\n",
    "        beta_mse_lbfgs, loss_hist_lbfgs, elapsed_lbfgs\n",
    "    ]\n",
    "\n",
    "    return results"
   ]
  },
  {
   "cell_type": "code",
   "execution_count": 3,
   "id": "a57df456",
   "metadata": {},
   "outputs": [
    {
     "data": {
      "application/vnd.jupyter.widget-view+json": {
       "model_id": "a7f5424d8ee44cc7a0fe61284596e8ff",
       "version_major": 2,
       "version_minor": 0
      },
      "text/plain": [
       "  0%|          | 0/100 [00:00<?, ?it/s]"
      ]
     },
     "metadata": {},
     "output_type": "display_data"
    },
    {
     "data": {
      "application/vnd.jupyter.widget-view+json": {
       "model_id": "55ed5bd374354b20b2191623b333cf04",
       "version_major": 2,
       "version_minor": 0
      },
      "text/plain": [
       "  0%|          | 0/100 [00:00<?, ?it/s]"
      ]
     },
     "metadata": {},
     "output_type": "display_data"
    },
    {
     "data": {
      "application/vnd.jupyter.widget-view+json": {
       "model_id": "90f4e9fd1f09499cbeb7a862a99789f9",
       "version_major": 2,
       "version_minor": 0
      },
      "text/plain": [
       "  0%|          | 0/100 [00:00<?, ?it/s]"
      ]
     },
     "metadata": {},
     "output_type": "display_data"
    },
    {
     "data": {
      "application/vnd.jupyter.widget-view+json": {
       "model_id": "2eef344990b64d779ac522b4992b0fe9",
       "version_major": 2,
       "version_minor": 0
      },
      "text/plain": [
       "  0%|          | 0/100 [00:00<?, ?it/s]"
      ]
     },
     "metadata": {},
     "output_type": "display_data"
    },
    {
     "data": {
      "application/vnd.jupyter.widget-view+json": {
       "model_id": "c053f95f4dee45ecb5c81172ae20df47",
       "version_major": 2,
       "version_minor": 0
      },
      "text/plain": [
       "  0%|          | 0/100 [00:00<?, ?it/s]"
      ]
     },
     "metadata": {},
     "output_type": "display_data"
    },
    {
     "data": {
      "application/vnd.jupyter.widget-view+json": {
       "model_id": "ce90314602724b3ea0422f05602b3c52",
       "version_major": 2,
       "version_minor": 0
      },
      "text/plain": [
       "  0%|          | 0/100 [00:00<?, ?it/s]"
      ]
     },
     "metadata": {},
     "output_type": "display_data"
    },
    {
     "data": {
      "application/vnd.jupyter.widget-view+json": {
       "model_id": "db41cb0ffa5642f6ae452169e63aa0ef",
       "version_major": 2,
       "version_minor": 0
      },
      "text/plain": [
       "  0%|          | 0/100 [00:00<?, ?it/s]"
      ]
     },
     "metadata": {},
     "output_type": "display_data"
    },
    {
     "data": {
      "application/vnd.jupyter.widget-view+json": {
       "model_id": "72579032462140bbae1549c96e382308",
       "version_major": 2,
       "version_minor": 0
      },
      "text/plain": [
       "  0%|          | 0/100 [00:00<?, ?it/s]"
      ]
     },
     "metadata": {},
     "output_type": "display_data"
    }
   ],
   "source": [
    "# Number of simulations\n",
    "n_sim = 100 \n",
    "\n",
    "# Number of observations\n",
    "n_obs = [1000, 5000]\n",
    "\n",
    "# Number of features\n",
    "ms = [1, 10, 100, 1000] \n",
    "\n",
    "# Number of epochs\n",
    "n_epochs = 250\n",
    "tol = 1e-6\n",
    "seeds = np.arange(n_sim)\n",
    "\n",
    "for n in n_obs:\n",
    "\n",
    "    # Track loss, beta error, and elapsed time\n",
    "    loss_history = {\n",
    "        'sgd': np.zeros((len(ms), n_sim, n_epochs)),\n",
    "        'newton': np.zeros((len(ms), n_sim, n_epochs)),\n",
    "        'lbfgs': np.zeros((len(ms), n_sim, n_epochs))\n",
    "    }\n",
    "\n",
    "    beta_mse = {\n",
    "        'normal': np.zeros((len(ms), n_sim)),\n",
    "        'sgd': np.zeros((len(ms), n_sim)),\n",
    "        'newton': np.zeros((len(ms), n_sim)),\n",
    "        'lbfgs': np.zeros((len(ms), n_sim))\n",
    "    }\n",
    "\n",
    "    elapsed_time = {\n",
    "        'normal': np.zeros((len(ms), n_sim)),\n",
    "        'sgd': np.zeros((len(ms), n_sim)),\n",
    "        'newton': np.zeros((len(ms), n_sim)),\n",
    "        'lbfgs': np.zeros((len(ms), n_sim))\n",
    "    }\n",
    "\n",
    "    for i, m in enumerate(ms):\n",
    "        \n",
    "        # Process in parallel using all cpu's\n",
    "        parallel_pfunc = partial(parallel_func, n=n, m=m,n_epochs=n_epochs,\n",
    "                                 tol=tol)\n",
    "        with Pool(processes=cpu_count()) as pool:\n",
    "     \n",
    "            mapping = pool.imap(parallel_pfunc, seeds)\n",
    "            results = list(tqdm(mapping, total=len(seeds)))\n",
    "            \n",
    "        # Unpack pooled results\n",
    "        beta_mse['normal'][i] = np.array([r[0] for r in results])\n",
    "        elapsed_time['normal'][i] = np.array([r[1] for r in results])\n",
    "        \n",
    "        beta_mse['sgd'][i] = np.array([r[2] for r in results])\n",
    "        loss_history['sgd'][i] =  np.array([r[3] for r in results])\n",
    "        elapsed_time['sgd'][i] = np.array([r[4] for r in results])\n",
    "\n",
    "        beta_mse['newton'][i] = np.array([r[5] for r in results])\n",
    "        loss_history['newton'][i] = np.array([r[6] for r in results])\n",
    "        elapsed_time['newton'][i] = np.array([r[7] for r in results])\n",
    "\n",
    "        beta_mse['lbfgs'][i] = np.array([r[8] for r in results])\n",
    "        loss_history['lbfgs'][i] = np.array([r[9] for r in results])\n",
    "        elapsed_time['lbfgs'][i] = np.array([r[10] for r in results])"
   ]
  },
  {
   "cell_type": "code",
   "execution_count": 4,
   "id": "012dee57",
   "metadata": {},
   "outputs": [],
   "source": [
    "fname_1000 = '../results/sim_data_1000-obs_100-sims_250-epochs.npz'\n",
    "fname_5000 = '../results/sim_data_5000-obs_100-sims_250-epochs.npz'\n",
    "\n",
    "beta_mse_1000, elapsed_time_1000, loss_history_1000 = load_data(fname_1000)\n",
    "beta_mse_1000 = beta_mse_1000.flatten()[0]\n",
    "elapsed_time_1000 = elapsed_time_1000.flatten()[0]\n",
    "loss_history_1000 = loss_history_1000.flatten()[0]\n",
    "\n",
    "beta_mse_5000, elapsed_time_5000, loss_history_5000 = load_data(fname_5000)\n",
    "beta_mse_5000 = beta_mse_5000.flatten()[0]\n",
    "elapsed_time_5000 = elapsed_time_5000.flatten()[0]\n",
    "loss_history_5000 = loss_history_5000.flatten()[0]"
   ]
  },
  {
   "cell_type": "code",
   "execution_count": null,
   "id": "d1918b6b",
   "metadata": {
    "scrolled": false
   },
   "outputs": [],
   "source": [
    "# Loss starts higher as betas increases, but rate of descent is similar\n",
    "#   We could quantify rate of convergence as the exponential decay rate of loss\n",
    "\n",
    "# Another thing we can do is to simply report the iteration where there is the minimum loss \n",
    "#(this should be the point of convergence)\n",
    "\n",
    "for i in range(4):\n",
    "    plt.figure(i)\n",
    "    plt.title(f'Loss with {ms[i]} betas')\n",
    "    plt.plot(np.nanmean(loss_history['sgd'][i](axis=0)), label='SGD')\n",
    "    #plt.plot(loss_history['newton'][i].mean(axis=0), label='Newton')\n",
    "    #plt.plot(loss_history['lbfgs'][i].mean(axis=0), label='LBFGS')\n",
    "    plt.ylabel('Loss (MSE)')\n",
    "    plt.xlabel('Epoch')\n",
    "    plt.legend(loc=\"upper right\")"
   ]
  },
  {
   "cell_type": "code",
   "execution_count": null,
   "id": "7bd07b7d",
   "metadata": {},
   "outputs": [],
   "source": [
    "for i in range(4):\n",
    "    fig, axes = plt.subplots(figsize=(12, 4), ncols=2)\n",
    "    \n",
    "    axes[0].violinplot(elapsed_time['normal'][i])\n",
    "    axes[0].violinplot(elapsed_time['sgd'][i], positions=[1.5])\n",
    "    axes[0].violinplot(elapsed_time['newton'][i], positions=[2])\n",
    "    axes[0].violinplot(elapsed_time['lbfgs'][i], positions=[2.5])\n",
    "    \n",
    "    axes[1].violinplot(elapsed_time['normal'][i])\n",
    "    axes[1].violinplot(elapsed_time['sgd'][i], positions=[1.5])\n",
    "    \n",
    "    axes[0].set_xticks([1, 1.5, 2,2.5], ['Normal Eq', 'SGD','Newton', 'LBFGS'])\n",
    "    axes[1].set_xticks([1, 1.5], ['Normal Eq', 'SGD'])\n",
    "    \n",
    "    axes[0].set_title(f'Elapsed Time : {ms[i]} betas')\n",
    "    axes[1].set_title(f'Normal Eq. vs SGD : {ms[i]} betas')\n",
    "    \n",
    "    axes[0].set_ylabel('Time (seconds)')\n",
    "    axes[1].set_ylabel('Time (seconds)')"
   ]
  },
  {
   "cell_type": "code",
   "execution_count": null,
   "id": "ec3b314f",
   "metadata": {},
   "outputs": [],
   "source": [
    "# Plot mse comparison\n",
    "# helper function to get finite vals in the mse only\n",
    "# Use this for violin plot visualizations\n",
    "def get_finite_vals(array):\n",
    "    ii = np.isfinite(array)\n",
    "    return(array[ii])\n",
    "\n",
    "\n",
    "for i in range(4):\n",
    "    fig, axes = plt.subplots(figsize=(12, 4), ncols=2)\n",
    "    \n",
    "    try:\n",
    "        axes[0].violinplot(get_finite_vals(beta_mse['normal'][i]))\n",
    "    except:\n",
    "        pass\n",
    "    try:\n",
    "        axes[0].violinplot(get_finite_vals(beta_mse['sgd'][i]), positions=[1.5])\n",
    "    except:\n",
    "        pass\n",
    "    try:\n",
    "        axes[0].violinplot(get_finite_vals(beta_mse['newton'][i]), positions=[2])\n",
    "    except:\n",
    "        pass\n",
    "    try:\n",
    "        axes[0].violinplot(get_finite_vals(beta_mse['lbfgs'][i]), positions=[2.5])\n",
    "    except:\n",
    "        pass\n",
    "    \n",
    "    try:\n",
    "        axes[1].violinplot(get_finite_vals(beta_mse['normal'][i]))\n",
    "        axes[1].violinplot(get_finite_vals(beta_mse['sgd'][i]), positions=[1.5])\n",
    "\n",
    "        axes[0].set_xticks([1, 1.5, 2,2.5], ['Normal Eq', 'SGD','Newton', 'LBFGS'])\n",
    "        axes[1].set_xticks([1, 1.5], ['Normal Eq', 'SGD'])\n",
    "\n",
    "        axes[0].set_title(f'MSE: {ms[i]} betas')\n",
    "        axes[1].set_title(f'Normal Eq. vs SGD : {ms[i]} betas')\n",
    "\n",
    "        axes[0].set_ylabel('MSE')\n",
    "        axes[1].set_ylabel('MSE')\n",
    "    except:\n",
    "        pass\n"
   ]
  },
  {
   "cell_type": "code",
   "execution_count": null,
   "id": "7d480e22",
   "metadata": {},
   "outputs": [],
   "source": [
    "for i in range(4):\n",
    "    fig, axes = plt.subplots(figsize=(12, 4), ncols=2)\n",
    "    \n",
    "    axes[0].violinplot(get_finite_vals(beta_mse['normal'][i]))\n",
    "    axes[0].violinplot(get_finite_vals(beta_mse['lbfgs'][i]), positions=[1.5])\n",
    "    \n",
    "    axes[1].violinplot(get_finite_vals(beta_mse['normal'][i]))\n",
    "    axes[1].violinplot(get_finite_vals(beta_mse['lbfgs'][i]), positions=[1.5])\n",
    "    \n",
    "    axes[0].set_xticks([1, 1.5], ['Normal Eq', 'LBFGS'])\n",
    "    axes[1].set_xticks([1, 1.5], ['Normal Eq', 'LBFGS'])\n",
    "    \n",
    "    axes[0].set_title(f'MSE: {ms[i]} betas')\n",
    "    axes[1].set_title(f'Normal Eq. vs LBFGS : {ms[i]} betas')\n",
    "    \n",
    "    axes[0].set_ylabel('MSE')\n",
    "    axes[1].set_ylabel('MSE')"
   ]
  },
  {
   "cell_type": "code",
   "execution_count": null,
   "id": "528804be",
   "metadata": {},
   "outputs": [],
   "source": [
    "for i in range(4):\n",
    "    fig, axes = plt.subplots(figsize=(12, 4), ncols=2)\n",
    "    \n",
    "    axes[0].violinplot(get_finite_vals(beta_mse['sgd'][i]))\n",
    "    axes[0].violinplot(get_finite_vals(beta_mse['lbfgs'][i]), positions=[1.5])\n",
    "    \n",
    "    axes[1].violinplot(get_finite_vals(beta_mse['sgd'][i]))\n",
    "    axes[1].violinplot(get_finite_vals(beta_mse['lbfgs'][i]), positions=[1.5])\n",
    "    \n",
    "    axes[0].set_xticks([1, 1.5], ['SGD', 'LBFGS'])\n",
    "    axes[1].set_xticks([1, 1.5], ['SGD', 'LBFGS'])\n",
    "    \n",
    "    axes[0].set_title(f'MSE: {ms[i]} betas')\n",
    "    axes[1].set_title(f'SGD vs LBFGS : {ms[i]} betas')\n",
    "    \n",
    "    axes[0].set_ylabel('MSE')\n",
    "    axes[1].set_ylabel('MSE')"
   ]
  }
 ],
 "metadata": {
  "kernelspec": {
   "display_name": "Python 3 (ipykernel)",
   "language": "python",
   "name": "python3"
  },
  "language_info": {
   "codemirror_mode": {
    "name": "ipython",
    "version": 3
   },
   "file_extension": ".py",
   "mimetype": "text/x-python",
   "name": "python",
   "nbconvert_exporter": "python",
   "pygments_lexer": "ipython3",
   "version": "3.10.8"
  }
 },
 "nbformat": 4,
 "nbformat_minor": 5
}
