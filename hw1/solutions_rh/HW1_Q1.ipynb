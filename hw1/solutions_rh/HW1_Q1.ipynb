{
 "cells": [
  {
   "cell_type": "markdown",
   "metadata": {
    "id": "lJCEyyf3IlRw"
   },
   "source": [
    "# HW1 - Q1: Linear Algebra Basics (30 points)\n",
    "Notes:\n",
    "* Questions (a), (b), (c), and (d) need to be typewritten.\n",
    "* Important:\n",
    "  * Write all the steps of the solution. \n",
    "  * Use proper LATEX formatting and notation for all mathematical equations, vectors, and matrices. \n"
   ]
  },
  {
   "cell_type": "markdown",
   "metadata": {
    "id": "Cdpgzds_Isxc"
   },
   "source": [
    "### **(a)** Given $L_1$ and $L_2$ are two lower triangular matrices of size $n\\times n$, prove that $L_1L_2$ is also a lower triangular matrix. Further, prove by induction that multiplication of $m\\,(m>2)$ lower triangular matrices ($L_1, L_2,..., L_m$) is also a lower triangular matrix. (6 points)"
   ]
  },
  {
   "cell_type": "markdown",
   "metadata": {
    "id": "i_qPxVfOI34J"
   },
   "source": [
    "#### <font color=\"red\">Your answer here:</font>"
   ]
  },
  {
   "cell_type": "markdown",
   "metadata": {
    "id": "FnMgRMp64_ab"
   },
   "source": [
    "#### 1. Let the $i$th row and $j$th column of an $n \\times n$ matix be:\n",
    "\n",
    "$$\n",
    "\\large{\n",
    " i, j \\in \\{1 ... n\\}\n",
    "}\n",
    "$$\n",
    "\n",
    "#### 2. Definition of a lower triangular matrix:\n",
    "\n",
    "$$\n",
    "\\large{L_{1_{ij}} = L_{2_{ij}} =0\\quad\\forall\\quad i < j}\n",
    "$$\n",
    "\n",
    "#### 3. Definition of matrix multiplication:\n",
    "\n",
    "$$\n",
    "\\large{\n",
    "L_{1} L_{2} = L_{3_{ij}} = \\sum_{k=1}^{n} L_{1_{ik}} L_{2_{kj}}\n",
    "}\n",
    "$$\n",
    "\n",
    "#### 4. For all $k$, either $L_{1_{ik}}$ or $L_{2_{kj}}$ is zero given $i<j$:\n",
    "\n",
    "$$\n",
    "\\large{\n",
    "k > i \\implies L_{1_{ik}} = 0 \\\\\n",
    "k \\leq i < j \\implies L_{2_{kj}} = 0\n",
    "}\n",
    "$$\n",
    "\n",
    "#### 5. The matrix product $L_{1} L_{2}$ satisfies the defintion of a lower triangular matrix:\n",
    "\n",
    "$$\n",
    "\\large{\n",
    "L_{3_{ij}} = \\sum_{k=1}^{n} L_{1_{ik}} L_{2_{kj}} = 0\\quad\\forall\\quad i < j\n",
    "}\n",
    "$$\n",
    "\n",
    "#### 6. The product of any number of $m$ lower triangular matrices ($L_1, L_2,..., L_m$)} is a lower triangular matrix. For $m=3$, (e.g. $L_1, L_2, L_3$):\n",
    "\n",
    "                                                                                    \n",
    "$$\n",
    "\\large{\n",
    "\\begin{align}\n",
    "L_{1_{ij}} L_{2_{ij}} = L_{12_{ij}} & = 0\\quad\\forall\\quad i < j \\\\\n",
    "L_{12_{ij}} L_{3_{ij}} = L_{4_{ij}} & = 0\\quad\\forall\\quad i < j \\\\\n",
    "L_{1_{ij}} L_{2_{ij}} L_{3_{ij}} & = 0\\quad\\forall\\quad i < j\n",
    "\\end{align}\n",
    "}\n",
    "$$\n",
    "                                                                                    \n",
    "\n",
    "---"
   ]
  },
  {
   "cell_type": "markdown",
   "metadata": {
    "id": "nEj1Gbc2JDn8"
   },
   "source": [
    "### **(b)** Use Gauss elimination to solve the following equations: (8 points)\n",
    "$-4x_1 + 5x_2 - 5x_3 = -29$\\\n",
    "$-8x_1  -5x_2 - 3x_3 = -15$\\\n",
    "$16x_1 - 5x_2 + 6x_3 = 45$"
   ]
  },
  {
   "cell_type": "markdown",
   "metadata": {
    "id": "4F8bIVBhJY1A"
   },
   "source": [
    "#### <font color=\"red\">Your answer here:</font>"
   ]
  },
  {
   "cell_type": "markdown",
   "metadata": {
    "id": "vO1TrTMH5BhT"
   },
   "source": [
    "\n",
    "\n",
    "---\n"
   ]
  },
  {
   "cell_type": "code",
   "execution_count": 1,
   "metadata": {},
   "outputs": [
    {
     "data": {
      "text/plain": [
       "array([[ -4. ,   5. ,  -5. , -29. ],\n",
       "       [  0. , -25. ,   7. ,  43. ],\n",
       "       [  0. ,   0. ,  -9.8, -45.2]])"
      ]
     },
     "execution_count": 1,
     "metadata": {},
     "output_type": "execute_result"
    }
   ],
   "source": [
    "import numpy as np\n",
    "\n",
    "m = np.array([\n",
    "    [-4, 5, -5, -29],\n",
    "    [-8, -15, -3, -15],\n",
    "    [16, -5, 6, 45]\n",
    "], dtype=float)\n",
    "\n",
    "m[1] = (-2 * m[0]) + m[1]\n",
    "m[2] = (4 * m[0]) + m[2]\n",
    "m[2] = (m[1] * (15/25)) + m[2]\n",
    "\n",
    "#m[0] = m[0] / -4\n",
    "#m[1] = m[1] / -15\n",
    "#m[2] = m[2] / 6\n",
    "\n",
    "m"
   ]
  },
  {
   "cell_type": "markdown",
   "metadata": {
    "id": "kKI0kyPGJdgh"
   },
   "source": [
    "### **(c)** Do the $LU$ decomposition for the matrix obtained in (b). Using the matrices $L$ and $U$, do forward and backward substitution and solve for $\\mathbf{x}$. Match your answer with the solution obtained in (b). (8 points)"
   ]
  },
  {
   "cell_type": "markdown",
   "metadata": {
    "id": "e4ytt-NSJla9"
   },
   "source": [
    "#### <font color=\"red\">Your answer here:</font>\n",
    "\n"
   ]
  },
  {
   "cell_type": "markdown",
   "metadata": {
    "id": "3mGCqU7N5FkL"
   },
   "source": [
    "\n",
    "\n",
    "---\n",
    "\n"
   ]
  },
  {
   "cell_type": "markdown",
   "metadata": {
    "id": "Lj8zlLl6Jl7D"
   },
   "source": [
    "### **(d)** Do the $QR$ decomposition for the matrix obtained in (b) using Gram-Schmidt algorithm. Using the decomposition, solve for $\\mathbf{x}$. Match your answer with the solution obtained in problem (b). (8 points)"
   ]
  },
  {
   "cell_type": "markdown",
   "metadata": {
    "id": "7E4qy1MTJsJ8"
   },
   "source": [
    "#### <font color=\"red\">Your answer here:</font>"
   ]
  }
 ],
 "metadata": {
  "colab": {
   "collapsed_sections": [],
   "provenance": []
  },
  "kernelspec": {
   "display_name": "Python 3 (ipykernel)",
   "language": "python",
   "name": "python3"
  },
  "language_info": {
   "codemirror_mode": {
    "name": "ipython",
    "version": 3
   },
   "file_extension": ".py",
   "mimetype": "text/x-python",
   "name": "python",
   "nbconvert_exporter": "python",
   "pygments_lexer": "ipython3",
   "version": "3.10.8"
  }
 },
 "nbformat": 4,
 "nbformat_minor": 1
}
