{
 "cells": [
  {
   "cell_type": "markdown",
   "metadata": {
    "id": "lJCEyyf3IlRw"
   },
   "source": [
    "# HW1 - Q1: Linear Algebra Basics (30 points)\n",
    "Notes:\n",
    "* Questions (a), (b), (c), and (d) need to be typewritten.\n",
    "* Important:\n",
    "  * Write all the steps of the solution. \n",
    "  * Use proper LATEX formatting and notation for all mathematical equations, vectors, and matrices. \n"
   ]
  },
  {
   "cell_type": "markdown",
   "metadata": {
    "id": "Cdpgzds_Isxc"
   },
   "source": [
    "### **(a)** Given $L_1$ and $L_2$ are two lower triangular matrices of size $n\\times n$, prove that $L_1L_2$ is also a lower triangular matrix. Further, prove by induction that multiplication of $m\\,(m>2)$ lower triangular matrices ($L_1, L_2,..., L_m$) is also a lower triangular matrix. (6 points)"
   ]
  },
  {
   "cell_type": "markdown",
   "metadata": {
    "id": "i_qPxVfOI34J"
   },
   "source": [
    "#### <font color=\"red\">Your answer here:</font>"
   ]
  },
  {
   "cell_type": "markdown",
   "metadata": {
    "id": "FnMgRMp64_ab"
   },
   "source": [
    "1. Let the $i$th row and $j$th column of an $n \\times n$ matix be:\n",
    "\n",
    "$$\n",
    "\\large{\n",
    " i, j \\in \\{1 ... n\\}\n",
    "}\n",
    "$$\n",
    "\n",
    "2. Definition of a lower triangular matrix:\n",
    "\n",
    "$$\n",
    "\\large{L_{1_{ij}} = L_{2_{ij}} =0\\quad\\forall\\quad i < j}\n",
    "$$\n",
    "\n",
    "3. Definition of matrix multiplication:\n",
    "\n",
    "$$\n",
    "\\large{\n",
    "L_{1} L_{2} = L_{3_{ij}} = \\sum_{k=1}^{n} L_{1_{ik}} L_{2_{kj}}\n",
    "}\n",
    "$$\n",
    "\n",
    "4. For all $k$, either $L_{1_{ik}}$ or $L_{2_{kj}}$ is zero given $i<j$:\n",
    "\n",
    "$$\n",
    "\\large{\n",
    "k > i \\implies L_{1_{ik}} = 0 \\\\\n",
    "k \\leq i < j \\implies L_{2_{kj}} = 0\n",
    "}\n",
    "$$\n",
    "\n",
    "5. The matrix product $L_{1} L_{2}$ satisfies the defintion of a lower triangular matrix:\n",
    "\n",
    "$$\n",
    "\\large{\n",
    "L_{3_{ij}} = \\sum_{k=1}^{n} L_{1_{ik}} L_{2_{kj}} = 0\\quad\\forall\\quad i < j\n",
    "}\n",
    "$$\n",
    "\n",
    "6. The product of any number of $m$ lower triangular matrices ($L_1, L_2,..., L_m$) is a lower triangular matrix. For $m=3$, (e.g. $L_1, L_2, L_3$):\n",
    "\n",
    "                                                                                    \n",
    "$$\n",
    "\\large{\n",
    "\\begin{align}\n",
    "L_{1_{ij}} L_{2_{ij}} = L_{12_{ij}} & = 0\\quad\\forall\\quad i < j \\\\\n",
    "L_{12_{ij}} L_{3_{ij}} = L_{4_{ij}} & = 0\\quad\\forall\\quad i < j \\\\\n",
    "L_{1_{ij}} L_{2_{ij}} L_{3_{ij}} & = 0\\quad\\forall\\quad i < j\n",
    "\\end{align}\n",
    "}\n",
    "$$\n",
    "                                                                                    \n",
    "\n",
    "---"
   ]
  },
  {
   "cell_type": "markdown",
   "metadata": {
    "id": "nEj1Gbc2JDn8"
   },
   "source": [
    "### **(b)** Use Gauss elimination to solve the following equations: (8 points)\n",
    "$-4x_1 + 5x_2 - 5x_3 = -29$\\\n",
    "$-8x_1  -5x_2 - 3x_3 = -15$\\\n",
    "$16x_1 - 5x_2 + 6x_3 = 45$"
   ]
  },
  {
   "cell_type": "markdown",
   "metadata": {
    "id": "4F8bIVBhJY1A"
   },
   "source": [
    "#### <font color=\"red\">Your answer here:</font>"
   ]
  },
  {
   "cell_type": "markdown",
   "metadata": {
    "id": "vO1TrTMH5BhT"
   },
   "source": [
    "#### Gaussian Elimination\n",
    "\n",
    "$$\n",
    "\\left[\n",
    "\\begin{array}{ccc|c}\n",
    "-4 &  5 & -5 & -29 \\\\\n",
    "-8 & -5 & -3 & -15 \\\\\n",
    "16 & -5 &  6 &  45 \\\\\n",
    "\\end{array}\n",
    "\\right ]\n",
    "\\begin{matrix} -\\mathbf{L_1}- \\\\ row2 - 2row1\\\\ row3 + 4row1 \\end{matrix}\n",
    "\\left[\n",
    "\\begin{array}{ccc|c}\n",
    "-4 &   5 & -5 & -29 \\\\\n",
    " 0 & -15 & -7 & 43 \\\\\n",
    " 0 &  15 & 14 & -71 \\\\\n",
    "\\end{array}\n",
    "\\right ]\n",
    "\\begin{matrix} -\\mathbf{L_2}- \\\\ \\\\ row3 + row2 \\end{matrix}\n",
    "\\left[\n",
    "\\begin{array}{ccc|c}\n",
    "-4 &   5 & -5 & -29 \\\\\n",
    " 0 & -15 &  7 & 43 \\\\\n",
    " 0 &   0 & -7 & -28 \\\\\n",
    "\\end{array}\n",
    "\\right ]\n",
    "$$\n",
    "\n",
    "#### Backwards Substitution\n",
    "\n",
    "$$\n",
    "\\begin{align}\n",
    "-7 x_3 & = -28 \\\\\n",
    "x_3 & = \\frac{-28}{-7} \\\\\n",
    "\\mathbf{x_3} & = \\mathbf{4} \\\\\n",
    "\\\\\n",
    "-15 x_2 + 7 x_3 & = 43 \\\\\n",
    "-15 x_2 + (7 \\cdot 4) & = 43 \\\\\n",
    "-15 x_2 & = 43 - (7 \\cdot 4) = 43 - 28 = 15 \\\\\n",
    "x_2 & = \\frac{15}{-15} \\\\\n",
    "\\mathbf{x_2} & = \\mathbf{-1} \\\\\n",
    "\\\\\n",
    "-4 x_1 + 5 x_2 - 5 x_3 &= -29 \\\\\n",
    "-4 x_1 + (5 \\cdot -1) - (5 \\cdot 4) &= -29 \\\\\n",
    "-4 x_1 - 5 - 20 &= -29 \\\\\n",
    "-4 x_1 - 25 &= -29 \\\\\n",
    "-4 x_1 & = -29 + 25 = -4 \\\\\n",
    "x_1 & = \\frac{-4}{-4} \\\\\n",
    "\\mathbf{x_1} &= \\mathbf{1}\n",
    "\\\\\n",
    "\\end{align}\n",
    "$$\n",
    "\n",
    "#### Solution\n",
    "\n",
    "$$\n",
    "\\mathbf{x} = \\begin{bmatrix} x_1 \\\\ x_2 \\\\ x_3 \\end{bmatrix} = \\begin{bmatrix} 1 \\\\ -1 \\\\ 4 \\end{bmatrix}\n",
    "$$ \n",
    "\n",
    "\n",
    "---\n"
   ]
  },
  {
   "cell_type": "markdown",
   "metadata": {
    "id": "kKI0kyPGJdgh"
   },
   "source": [
    "### **(c)** Do the $LU$ decomposition for the matrix obtained in (b). Using the matrices $L$ and $U$, do forward and backward substitution and solve for $\\mathbf{x}$. Match your answer with the solution obtained in (b). (8 points)"
   ]
  },
  {
   "cell_type": "markdown",
   "metadata": {
    "id": "e4ytt-NSJla9"
   },
   "source": [
    "#### <font color=\"red\">Your answer here:</font>\n",
    "\n"
   ]
  },
  {
   "cell_type": "markdown",
   "metadata": {
    "id": "3mGCqU7N5FkL"
   },
   "source": [
    "Given\n",
    "$$\n",
    "\\mathbf{L} =\n",
    "\\begin{bmatrix}\n",
    "1 &  0 & 0 \\\\\n",
    "2 & 1 & 0 \\\\\n",
    "-4 & -1 & 1 \\\\\n",
    "\\end{bmatrix},\n",
    "\\mathbf{U} = \n",
    "\\begin{bmatrix}\n",
    "-4 & 5 & -5 \\\\\n",
    "0 & -15 & 7 \\\\\n",
    "0 & 0 & -7 \\\\\n",
    "\\end{bmatrix},\n",
    "\\mathbf{b} = \\begin{bmatrix} -29 \\\\ -15 \\\\ 45 \\end{bmatrix}\n",
    "\\\\\\\\\n",
    "\\mathbf{\n",
    "Ax = b \\xrightarrow[\\text{}]{A=LU} L\\underbrace{Ux}_y = b\n",
    "}\n",
    "\\\\\n",
    "\\mathbf{Ly=b} \\\\\n",
    "\\mathbf{Ux=y}\n",
    "$$\n",
    "\n",
    "1. Solve $\\mathbf{y}$ with forward substitution, given $\\mathbf{L}$ and $\\mathbf{b}$.\n",
    "\n",
    "$$\n",
    "\\begin{align}\n",
    "\\mathbf{y_1} &= \\mathbf{-29} \\\\\n",
    "\\\\\n",
    "2 y_1 + y_2 &= -15 \\\\\n",
    "(2 \\cdot -29) + y_2 &= -15 \\\\\n",
    "y_2 &= -15 + (2 \\cdot 29) \\\\\n",
    "\\mathbf{y_2} &= \\mathbf{43} \\\\\n",
    "\\\\\n",
    "-4y_1 - y_2 + y_3 &= 45 \\\\\n",
    "(-4 \\cdot -29) - 43 + y_3 &= 45 \\\\\n",
    "y_3 &= 45 - (4 \\cdot 29) + 43 \\\\\n",
    "\\mathbf{y_3} &= \\mathbf{-28}\\\\\n",
    "\\\\\n",
    "\\mathbf{y} &= \\begin{bmatrix} y_1 \\\\ y_2 \\\\ y_3 \\end{bmatrix} = \\begin{bmatrix} -29 \\\\ 43 \\\\ -28 \\end{bmatrix}\n",
    "\\end{align}\n",
    "$$\n",
    "\n",
    "2. Solve $\\mathbf{x}$ with backward substitution, given $\\mathbf{U}$ and $\\mathbf{y}$.\n",
    "\n",
    "$$\n",
    "\\begin{align}\n",
    "-7 x_3 &= y_3 = -28 \\\\\n",
    "x_3 &= \\frac{-28}{-7} \\\\\n",
    "\\mathbf{x_3} &= \\mathbf{4} \\\\\n",
    "\\\\\n",
    "-15 x_2 + 7 x_3 &= y_2 = 43 \\\\\n",
    "-15 x_2 + (7 \\cdot 4) &= 43 \\\\\n",
    "-15 x_2 &= 43 - 28 = 15 \\\\\n",
    "x_2 &= \\frac{15}{-15} \\\\\n",
    "\\mathbf{x_2} &= \\mathbf{-1} \\\\\n",
    "\\\\\n",
    "-4 x_1 + 5 x_2 - 5 x_3 &= y_1 \\\\\n",
    "-4 x_1 + (5 \\cdot -1) - (5 \\cdot 4) &= -29 \\\\\n",
    "-4 x_1 - 5 - 20 &= -29 \\\\\n",
    "-4 x_1 &= -29 + 25 \\\\\n",
    "x_1 &= \\frac{-4}{-4} \\\\\n",
    "\\mathbf{x_1} &= \\mathbf{1} \\\\\n",
    "\\\\\n",
    "\\mathbf{x} &= \\begin{bmatrix} x_1 \\\\ x_2 \\\\ x_3 \\end{bmatrix} = \\begin{bmatrix} 1 \\\\ -1 \\\\ 4\\end{bmatrix}\n",
    "\\end{align}\n",
    "$$\n",
    "\n",
    "---"
   ]
  },
  {
   "cell_type": "markdown",
   "metadata": {
    "id": "Lj8zlLl6Jl7D"
   },
   "source": [
    "### **(d)** Do the $QR$ decomposition for the matrix obtained in (b) using Gram-Schmidt algorithm. Using the decomposition, solve for $\\mathbf{x}$. Match your answer with the solution obtained in problem (b). (8 points)"
   ]
  },
  {
   "cell_type": "markdown",
   "metadata": {
    "id": "7E4qy1MTJsJ8"
   },
   "source": [
    "#### <font color=\"red\">Your answer here:</font>"
   ]
  }
 ],
 "metadata": {
  "colab": {
   "collapsed_sections": [],
   "provenance": []
  },
  "kernelspec": {
   "display_name": "Python 3 (ipykernel)",
   "language": "python",
   "name": "python3"
  },
  "language_info": {
   "codemirror_mode": {
    "name": "ipython",
    "version": 3
   },
   "file_extension": ".py",
   "mimetype": "text/x-python",
   "name": "python",
   "nbconvert_exporter": "python",
   "pygments_lexer": "ipython3",
   "version": "3.10.6"
  }
 },
 "nbformat": 4,
 "nbformat_minor": 1
}
