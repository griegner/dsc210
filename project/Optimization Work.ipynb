{
 "cells": [
  {
   "cell_type": "code",
   "execution_count": 1,
   "id": "50435051",
   "metadata": {},
   "outputs": [],
   "source": [
    "import pandas as pd\n",
    "import numpy as np\n",
    "from tqdm.notebook import tqdm\n",
    "import time"
   ]
  },
  {
   "cell_type": "markdown",
   "id": "8381e765",
   "metadata": {},
   "source": [
    "## TO DO\n",
    "\n",
    "1. Define SGD function\n",
    "2. Define Newton's function\n",
    "3. Define Quasi-Newton's method\n",
    "4. Write simulation function (in-progress; BP)\n",
    "5. Write simulation comparison code / Post Processing (in-progress; BP)"
   ]
  },
  {
   "cell_type": "markdown",
   "id": "bb666640",
   "metadata": {},
   "source": [
    "## FINISHED\n",
    "1. Write data generating function\n",
    "2. Write Normal Equation function (theoretical)"
   ]
  },
  {
   "cell_type": "markdown",
   "id": "6f172dfc",
   "metadata": {},
   "source": [
    "## Functions"
   ]
  },
  {
   "cell_type": "code",
   "execution_count": 2,
   "id": "e1f8572f",
   "metadata": {},
   "outputs": [],
   "source": [
    "#CREATE SIMULATION DATA\n",
    "# creates feature matrix and corresponding observation.\n",
    "# y - n x 1 matrix of normal distribution data of mu and sigma\n",
    "# X - n x m matrix of parameters. First column is the intercept which is always 1\n",
    "# Each parameter (column) is from the normal distribution of mu and sigma\n",
    "# default is std norm: mu = 0, sd = 1\n",
    "\n",
    "def create_sim_data_lr(n,m,mu = 0, sigma = 1):\n",
    "    y = np.random.normal(mu,sigma,size = (n,1))    \n",
    "    X = np.random.normal(mu,sigma,size = (n,m))\n",
    "    X[:,0] = 1\n",
    "    \n",
    "    return ((X,y))\n",
    "\n",
    "\n",
    "### Normal Equation (Theoretical)\n",
    "# Closed Form Solution\n",
    "# beta_hat = (X^T %*% X)^-1 %*% X %*% y\n",
    "def normal_eq_lr(X,y):\n",
    "    A = np.linalg.inv(np.matmul(np.transpose(X),X))\n",
    "    B = np.matmul(np.transpose(X),y)\n",
    "    return(np.matmul(A,B))\n",
    "\n",
    "\n",
    "### SGD\n",
    "\n",
    "### Newton's\n",
    "\n",
    "### Quasi-Newton\n",
    "\n",
    "\n"
   ]
  },
  {
   "cell_type": "markdown",
   "id": "abfa2fb0",
   "metadata": {},
   "source": [
    "## Simulations"
   ]
  },
  {
   "cell_type": "markdown",
   "id": "37839562",
   "metadata": {},
   "source": [
    "The goal of these simulations is to create cases where we have n samples (could be low or high) and m features (1-1000). In the context of an optimization problem, compare the performance between SGD, Newton's method, and Quasi-Newton for each case."
   ]
  },
  {
   "cell_type": "markdown",
   "id": "f8001304",
   "metadata": {},
   "source": [
    "Optimization problems to try: Regression, Classification (maybe if we don't have time, we can stick to regression only)"
   ]
  },
  {
   "cell_type": "code",
   "execution_count": 37,
   "id": "ef585c9f",
   "metadata": {},
   "outputs": [
    {
     "data": {
      "application/vnd.jupyter.widget-view+json": {
       "model_id": "0d1e806ddd2741798190de9083d2c632",
       "version_major": 2,
       "version_minor": 0
      },
      "text/plain": [
       "  0%|          | 0/1000 [00:00<?, ?it/s]"
      ]
     },
     "metadata": {},
     "output_type": "display_data"
    }
   ],
   "source": [
    "nsim = 1000 # number of simulations\n",
    "m = 1000 # number of features\n",
    "n = 10000 # number of observations\n",
    "np.random.seed(123) # set seed for reproducibility\n",
    "\n",
    "res = {'normal-eq': dict(), 'sgd': dict(),'newton': dict(),'quasi-newton':dict()} # Store betas for each method here\n",
    "res_time = {'normal-eq': dict(), 'sgd': dict(),'newton': dict(),'quasi-newton':dict()} # Store runtimes for each method here\n",
    "for i in tqdm(range(nsim)):\n",
    "    data = create_sim_data_lr(n,m) # for each iteration, generate new data\n",
    "    \n",
    "    ### Expected: beta_m parameters in a list\n",
    "    \n",
    "    # DO theoretical soln:\n",
    "    # beta_hat = (X^T %*% X)^-1 %*% X %*% y\n",
    "    # This solution might not be available...\n",
    "    try:\n",
    "        start = time.time()\n",
    "        res['normal-eq'][i] = normal_eq_lr(data[0],data[1])[:,0].tolist()\n",
    "        end = time.time()\n",
    "        res_time['normal-eq'][i] = end-start # records the time elapsed to calculate\n",
    "    except:\n",
    "        res['normal-eq'][i] = 'Did not compute'\n",
    "        res_time['normal-eq'][i] = 'NA'\n",
    "    \n",
    "    \n",
    "    # DO SGD\n",
    "    #res['sgd'][i] = \n",
    "    # DO NEWTON'S\n",
    "    #res['newton'][i] = \n",
    "    # DO QUASI NEWTON'S\n",
    "    #res['quasi-newton'][i] = \n",
    "    \n",
    "    "
   ]
  },
  {
   "cell_type": "code",
   "execution_count": 50,
   "id": "a3c62a5a",
   "metadata": {},
   "outputs": [],
   "source": [
    "### VISUALIZATION FUNCTIONS TO COMPARE SIMULATION TIMES AS WELL AS BETAS FOR EACH METHOD\n",
    "dfs = []\n",
    "normal_eq_times = pd.DataFrame.from_dict(res_time['normal-eq'], orient='index')\n",
    "normal_eq_betas = pd.DataFrame.from_dict(res['normal-eq']) # Each column is a simulation, Each row is a beta\n",
    "#normal_eq_betas_vals = normal_eq_betas\n",
    "normal_eq_beta_hats = normal_eq_betas.mean(axis=1)\n",
    "normal_eq_beta_sds = normal_eq_betas.std(axis=1)\n",
    "\n",
    "normal_eq_betas['beta_hat'] = normal_eq_beta_hats\n",
    "normal_eq_betas['sd'] = normal_eq_beta_sds\n",
    "#sgd_times = pd.DataFrame.from_dict(res_time['sgd'], orient='index')\n",
    "#newton_times = pd.DataFrame.from_dict(res_time['newton'], orient='index')\n",
    "#quasi_newton_times = pd.DataFrame.from_dict(res_time['quasi-newton'], orient='index')\n",
    "#dfs.append(normal_eq_times,sgd_times,newton_times,quasi_newton_times)\n",
    "\n",
    "#dfs = pd.concat(dfs,axis = 1) # combines all the times together into one matrix for easy computation\n",
    "# get the mean time and sd for each method and plot in a violin plot? similar to what I showed in the midterm presentation\n",
    "\n",
    "\n",
    "# X axis is betas\n",
    "# Y axis is value\n",
    "\n",
    "# overlay methods ontop of each other in different colors"
   ]
  }
 ],
 "metadata": {
  "kernelspec": {
   "display_name": "base",
   "language": "python",
   "name": "base"
  },
  "language_info": {
   "codemirror_mode": {
    "name": "ipython",
    "version": 3
   },
   "file_extension": ".py",
   "mimetype": "text/x-python",
   "name": "python",
   "nbconvert_exporter": "python",
   "pygments_lexer": "ipython3",
   "version": "3.9.13"
  }
 },
 "nbformat": 4,
 "nbformat_minor": 5
}
